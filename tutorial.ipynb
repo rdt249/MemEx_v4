{
 "cells": [
  {
   "cell_type": "markdown",
   "id": "f74b8e63",
   "metadata": {},
   "source": [
    "![](https://upload.wikimedia.org/wikipedia/commons/thumb/1/19/University_of_Tennessee_at_Chattanooga_logo.svg/1024px-University_of_Tennessee_at_Chattanooga_logo.svg.png)\n",
    "<br>\n",
    "![](https://i.imgur.com/MxD5e0S.png)\n",
    "\n",
    "# MemEx v4 Tutorial\n",
    "By Stephen Lawrence in October 2021\n",
    "\n",
    "Here is a quick tutorial with examples to teach you how to start scripting your very own memory experiments. First, we will run thru the basic commands, explaining what they do and giving demonstrations. Then there is a short section on how to edit the settings for your experiment. Lastly, there is an example script to log SEU data."
   ]
  },
  {
   "cell_type": "markdown",
   "id": "3886a03d",
   "metadata": {},
   "source": [
    "# Commands"
   ]
  },
  {
   "cell_type": "markdown",
   "id": "b57baf0b",
   "metadata": {},
   "source": [
    "### LOG\n",
    "Call `log(data,header)` to add to or create a CSV fil with the numbers/strings contained in list `data`. The columns for the table must be given in `header` and have the same length as `data`. The default location for the output CSV is `data/log.csv` although you can change the location by giving a 3rd argument. Don't input lists or dicts, try to stick to numbers, strings, and `None`. By default the log adds the date and time as the first 2 columns in the log file. If you want to turn this off, input an optional argument (e.g. `log(data,header,timestamp=False)`)."
   ]
  },
  {
   "cell_type": "code",
   "execution_count": 1,
   "id": "d799f663",
   "metadata": {},
   "outputs": [
    {
     "data": {
      "text/plain": [
       "'data/tutorial/log.csv'"
      ]
     },
     "execution_count": 1,
     "metadata": {},
     "output_type": "execute_result"
    }
   ],
   "source": [
    "import memex as x\n",
    "header = ['A','B','C','D','E']\n",
    "data = [1,5.25,'True',None,1000]\n",
    "file = 'data/tutorial/log.csv'\n",
    "x.log(data,header,file)"
   ]
  },
  {
   "cell_type": "markdown",
   "id": "922689f0",
   "metadata": {},
   "source": [
    "### STATUS\n",
    "Call `status()` to return an array of True/False values representing which devices working properly. If a device is not working properly (returns 0), all attempts to scan or read from that device will return `None` or `np.nan`."
   ]
  },
  {
   "cell_type": "code",
   "execution_count": 1,
   "id": "cb17f1bd",
   "metadata": {},
   "outputs": [
    {
     "name": "stdout",
     "output_type": "stream",
     "text": [
      "A1,A2,A3,B1,B2,B3,C1,C2,C3,D1,D2,D3\n",
      "[1, 1, 1, 1, 1, 1, 1, 1, 1, 1, 1, 0]\n"
     ]
    }
   ],
   "source": [
    "import memex as x\n",
    "print('A1,A2,A3,B1,B2,B3,C1,C2,C3,D1,D2,D3')\n",
    "print(x.status())"
   ]
  },
  {
   "cell_type": "markdown",
   "id": "52a6eabe",
   "metadata": {},
   "source": [
    "### FILL\n",
    "Call `fill()` to fill all devices, up to the limit set by `size`, with the pattern set by `pattern`. Note that the size and pattern can be different for each group of devices. The `fill()` function returns an array the patterns written to each group of devices."
   ]
  },
  {
   "cell_type": "code",
   "execution_count": 3,
   "id": "06cab425",
   "metadata": {},
   "outputs": [
    {
     "name": "stdout",
     "output_type": "stream",
     "text": [
      "[85, 85, 85, 85]\n",
      "[0, 0, 0, 0]\n"
     ]
    }
   ],
   "source": [
    "import memex as x\n",
    "print(x.fill())\n",
    "x.pattern = [0,0,0,0]\n",
    "print(x.fill())"
   ]
  },
  {
   "cell_type": "markdown",
   "id": "1df60502",
   "metadata": {},
   "source": [
    "### HOLD\n",
    "Call `hold()` to hold the devices at low voltage for a period of time. By default the function waits until the user hits ENTER to end the trial. You can also set the period of time in advance with input `t`. The holding voltage for each group of devices is set by `voltage`. The function returns a tuple of `(t,v)` where `t` is the period in seconds, and `v` is a list of holding voltages for each group."
   ]
  },
  {
   "cell_type": "code",
   "execution_count": 4,
   "id": "903e6870",
   "metadata": {
    "scrolled": true
   },
   "outputs": [
    {
     "name": "stdout",
     "output_type": "stream",
     "text": [
      "\tholding @ [0.5, 1.0, 1.5, 2.0] ...\n",
      "(2, [0.5, 1.0, 1.5, 2.0])\n",
      "\tholding @ [0.6, 0.8, 1.0, 1.2] ...\n",
      "\t(press ENTER to return to nominal)\n",
      "(0.9210710525512695, [0.6, 0.8, 1.0, 1.2])\n"
     ]
    }
   ],
   "source": [
    "import memex as x\n",
    "print(x.hold(t=2))\n",
    "x.voltage = [0.6,0.8,1.0,1.2]\n",
    "print(x.hold())"
   ]
  },
  {
   "cell_type": "markdown",
   "id": "8df6d59a",
   "metadata": {},
   "source": [
    "### SCAN\n",
    "Call `scan()` to quickly scan the memories for faults compared to the patterns set in `pattern`. The function returns a list of the faults found in each device. You can speed this up tremendously by reducing the size of the memory, at the cost of more data."
   ]
  },
  {
   "cell_type": "code",
   "execution_count": 5,
   "id": "9014017a",
   "metadata": {},
   "outputs": [
    {
     "name": "stdout",
     "output_type": "stream",
     "text": [
      "[2195456, 1667072, 2007040, 1560576, 1658880, 1691648, 1658880, 1679360, 1724416, 1437696, 1585152, nan]\n",
      "[519, 516, 470, 420, 442, 493, 387, 415, 355, 333, 323, nan]\n"
     ]
    }
   ],
   "source": [
    "import memex as x\n",
    "x.size = [4096,4096,4096,4096]\n",
    "print(x.scan())\n",
    "x.size = [1,1,1,1]\n",
    "print(x.scan())"
   ]
  },
  {
   "cell_type": "markdown",
   "id": "49db8d66",
   "metadata": {},
   "source": [
    "### SAVE\n",
    "Call `save()` to read all the contents of the devices (up to the limit set by `size`) as an array (a list of lists). Each row in the array (e.g. `data[i]`) is a list containing the memory contents of the device. The values are decimal representations of the data bytes (as unsigned 8-bit integers), so the values range from 0 to 255. By default, the data is output to the location `data/temp/save.csv` but you should change this because it's overwritten every time the function is called. Alternatively, turn the returned data into your own pandas DataFrame and use the `df.to_csv()` method."
   ]
  },
  {
   "cell_type": "code",
   "execution_count": 6,
   "id": "1bee74f7",
   "metadata": {
    "scrolled": false
   },
   "outputs": [
    {
     "name": "stdout",
     "output_type": "stream",
     "text": [
      "[0, 255, 85, 170]\n",
      "     0      1      2      3      4      5      6      7      8      9     ...  \\\n",
      "A1    0.0    0.0    0.0    0.0    0.0    0.0    0.0    0.0    0.0    0.0  ...   \n",
      "A2    0.0    0.0    0.0    0.0    0.0    0.0    0.0    0.0    0.0    0.0  ...   \n",
      "A3    0.0    0.0    0.0    0.0    0.0    0.0    0.0    0.0    0.0    0.0  ...   \n",
      "B1  255.0  255.0  255.0  255.0  255.0  255.0  255.0  255.0  255.0  255.0  ...   \n",
      "B2  255.0  255.0  255.0  255.0  255.0  255.0  255.0  255.0  255.0  255.0  ...   \n",
      "B3  255.0  255.0  255.0  255.0  255.0  255.0  255.0  255.0  255.0  255.0  ...   \n",
      "C1   85.0   85.0   85.0   85.0   85.0   85.0   85.0   85.0   85.0   85.0  ...   \n",
      "C2   85.0   85.0   85.0   85.0   85.0   85.0   85.0   85.0   85.0   85.0  ...   \n",
      "C3   85.0   85.0   85.0   85.0   85.0   85.0   85.0   85.0   85.0   85.0  ...   \n",
      "D1  170.0  170.0  170.0  170.0  170.0  170.0  170.0  170.0  170.0  170.0  ...   \n",
      "D2  170.0  170.0  170.0  170.0  170.0  170.0  170.0  170.0  170.0  170.0  ...   \n",
      "D3    NaN    NaN    NaN    NaN    NaN    NaN    NaN    NaN    NaN    NaN  ...   \n",
      "\n",
      "     1014   1015   1016   1017   1018   1019   1020   1021   1022   1023  \n",
      "A1    0.0    0.0    0.0    0.0    0.0    0.0    0.0    0.0    0.0    0.0  \n",
      "A2    0.0    0.0    0.0    0.0    0.0    0.0    0.0    0.0    0.0    0.0  \n",
      "A3    0.0    0.0    0.0    0.0    0.0    0.0    0.0    0.0    0.0    0.0  \n",
      "B1  255.0  255.0  255.0  255.0  255.0  255.0  255.0  255.0  255.0  255.0  \n",
      "B2  255.0  255.0  255.0  255.0  255.0  255.0  255.0  255.0  255.0  255.0  \n",
      "B3  255.0  255.0  255.0  255.0  255.0  255.0  255.0  255.0  255.0  255.0  \n",
      "C1   85.0   85.0   85.0   85.0   85.0   85.0   85.0   85.0   85.0   85.0  \n",
      "C2   85.0   85.0   85.0   85.0   85.0   85.0   85.0   85.0   85.0   85.0  \n",
      "C3   85.0   85.0   85.0   85.0   85.0   85.0   85.0   85.0   85.0   85.0  \n",
      "D1  170.0  170.0  170.0  170.0  170.0  170.0  170.0  170.0  170.0  170.0  \n",
      "D2  170.0  170.0  170.0  170.0  170.0  170.0  170.0  170.0  170.0  170.0  \n",
      "D3    NaN    NaN    NaN    NaN    NaN    NaN    NaN    NaN    NaN    NaN  \n",
      "\n",
      "[12 rows x 1024 columns]\n"
     ]
    }
   ],
   "source": [
    "import memex as x\n",
    "x.size = [1,1,1,1]\n",
    "x.pattern = [0,255,85,170]\n",
    "print(x.fill())\n",
    "data = x.save()\n",
    "\n",
    "import pandas as pd\n",
    "df = pd.DataFrame(data,index=['A1','A2','A3','B1','B2','B3','C1','C2','C3','D1','D2','D3'])\n",
    "print(df)\n",
    "df.to_csv('data/tutorial/save.csv')"
   ]
  },
  {
   "cell_type": "markdown",
   "id": "9edb3356",
   "metadata": {},
   "source": [
    "### CHECK\n",
    "Call `check()` to find the location of every flipped bit in the devices (up to the limit set by `size`). The data is read from the devices and checked against `pattern`. The function returns an array similar to `save()` but the data represents an XOR between the read data and the set pattern. In other words, the data is 0 wherever the bits match and 1 wherever the bits do not match. Like with `save()`, the data bytes are represented as unsigned 8-bit integers. It is possible to extract an array of purely 1s and 0s representing each bit in the device as its own column (instead of each column representing a byte).\n",
    "\n",
    "Like with `save()`, you could also turn the data into a pandas DataFrame"
   ]
  },
  {
   "cell_type": "code",
   "execution_count": 7,
   "id": "80ee36bf",
   "metadata": {
    "scrolled": false
   },
   "outputs": [
    {
     "name": "stdout",
     "output_type": "stream",
     "text": [
      "data rows: 12\n",
      "data columns: 1024\n",
      "A1 check: [0, 0, 0, 0, 0, 0, 0, 0]\n",
      "A1 bits: [0, 0, 0, 0, 0, 0, 0, 0, 0, 0, 0, 0, 0, 0, 0, 0, 0, 0, 0, 0, 0, 0, 0, 0, 0, 0, 0, 0, 0, 0, 0, 0, 0, 0, 0, 0, 0, 0, 0, 0, 0, 0, 0, 0, 0, 0, 0, 0, 0, 0, 0, 0, 0, 0, 0, 0, 0, 0, 0, 0, 0, 0, 0, 0]\n",
      "    0     1     2     3     4     5     6     7     8     9     ...  1014  \\\n",
      "A1   0.0   0.0   0.0   0.0   0.0   0.0   0.0   0.0   0.0   0.0  ...   0.0   \n",
      "A2   0.0   0.0   0.0   0.0   0.0   0.0   0.0   0.0   0.0   0.0  ...   0.0   \n",
      "A3   0.0   0.0   0.0   0.0   0.0   0.0   0.0   0.0   0.0   0.0  ...   0.0   \n",
      "B1   0.0   0.0   0.0   0.0   0.0   0.0   0.0   0.0   0.0   0.0  ...   0.0   \n",
      "B2   0.0   0.0   0.0   0.0   0.0   0.0   0.0   0.0   0.0   0.0  ...   0.0   \n",
      "B3   0.0   0.0   0.0   0.0   0.0   0.0   0.0   0.0   0.0   0.0  ...   0.0   \n",
      "C1   0.0   0.0   0.0   0.0   0.0   0.0   0.0   0.0   0.0   0.0  ...   0.0   \n",
      "C2   0.0   0.0   0.0   0.0   0.0   0.0   0.0   0.0   0.0   0.0  ...   0.0   \n",
      "C3   0.0   0.0   0.0   0.0   0.0   0.0   0.0   0.0   0.0   0.0  ...   0.0   \n",
      "D1   0.0   0.0   0.0   0.0   0.0   0.0   0.0   0.0   0.0   0.0  ...   0.0   \n",
      "D2   0.0   0.0   0.0   0.0   0.0   0.0   0.0   0.0   0.0   0.0  ...   0.0   \n",
      "D3   NaN   NaN   NaN   NaN   NaN   NaN   NaN   NaN   NaN   NaN  ...   NaN   \n",
      "\n",
      "    1015  1016  1017  1018  1019  1020  1021  1022  1023  \n",
      "A1   0.0   0.0   0.0   0.0   0.0   0.0   0.0   0.0   0.0  \n",
      "A2   0.0   0.0   0.0   0.0   0.0   0.0   0.0   0.0   0.0  \n",
      "A3   0.0   0.0   0.0   0.0   0.0   0.0   0.0   0.0   0.0  \n",
      "B1   0.0   0.0   0.0   0.0   0.0   0.0   0.0   0.0   0.0  \n",
      "B2   0.0   0.0   0.0   0.0   0.0   0.0   0.0   0.0   0.0  \n",
      "B3   0.0   0.0   0.0   0.0   0.0   0.0   0.0   0.0   0.0  \n",
      "C1   0.0   0.0   0.0   0.0   0.0   0.0   0.0   0.0   0.0  \n",
      "C2   0.0   0.0   0.0   0.0   0.0   0.0   0.0   0.0   0.0  \n",
      "C3   0.0   0.0   0.0   0.0   0.0   0.0   0.0   0.0   0.0  \n",
      "D1   0.0   0.0   0.0   0.0   0.0   0.0   0.0   0.0   0.0  \n",
      "D2   0.0   0.0   0.0   0.0   0.0   0.0   0.0   0.0   0.0  \n",
      "D3   NaN   NaN   NaN   NaN   NaN   NaN   NaN   NaN   NaN  \n",
      "\n",
      "[12 rows x 1024 columns]\n"
     ]
    }
   ],
   "source": [
    "import memex as x\n",
    "x.size = [1,1,1,1]\n",
    "x.pattern = [85,85,85,85]\n",
    "data = x.check()\n",
    "print('data rows:',len(data))\n",
    "print('data columns:',len(data[0]))\n",
    "\n",
    "A1 = data[0]\n",
    "print('A1 check:',A1[0:8])\n",
    "\n",
    "bits = []\n",
    "for i in range(len(A1)) :\n",
    "    bits += [(A1[i] >> b) & 1 for b in range(8)][::-1]\n",
    "print('A1 bits:', bits[0:8*8])\n",
    "\n",
    "import pandas as pd\n",
    "df = pd.DataFrame(data,index=['A1','A2','A3','B1','B2','B3','C1','C2','C3','D1','D2','D3'])\n",
    "print(df)"
   ]
  },
  {
   "cell_type": "markdown",
   "id": "51ad5131",
   "metadata": {},
   "source": [
    "# Settings\n",
    "\n",
    "Feel free to edit the settings below to tailor your test. You can change them in the source code `memex.py` or just set them temporarily at the start of your script.\n",
    "\n",
    "`nominal` ~ list of four numbers (one for each group) defining the nominal voltage.\n",
    "\n",
    "`voltage` ~ list of four numbers (one for each group) defining the holding voltage used during `hold()`.\n",
    "\n",
    "`pattern` ~ list of four numbers (one for each group) defining the patterns used to `fill()`, `scan()`, and `check()`.\n",
    "\n",
    "`size` ~ list of four numbers (one for each group) defining the number of kiloBytes (kB) used for all functions.\n",
    "\n",
    "`log_file` ~ string defining the file path from the folder where `memex.py` is located to the desired command log locations.\n",
    "\n",
    "The script below sets each of the above parameters to their default settings, and prints them to the terminal. NOTE: If you are using the command line, you should set these parameters at the same time as you run your test. Do this by separating the lines using SHIFT+ENTER instead of running each line independently with just ENTER."
   ]
  },
  {
   "cell_type": "code",
   "execution_count": 8,
   "id": "fec70833",
   "metadata": {},
   "outputs": [
    {
     "name": "stdout",
     "output_type": "stream",
     "text": [
      "[3.3, 3.3, 3.3, 3.3]\n",
      "[0.5, 1.0, 1.5, 2.0]\n",
      "[85, 85, 85, 85]\n",
      "[4096, 4096, 4096, 4096]\n",
      "data/log.csv\n"
     ]
    }
   ],
   "source": [
    "import memex as x\n",
    "x.nominal = [3.3,3.3,3.3,3.3]\n",
    "x.voltage = [0.5,1.0,1.5,2.0]\n",
    "x.pattern = [85,85,85,85]\n",
    "x.size = [4096,4096,4096,4096]\n",
    "x.log_file = 'data/log.csv'\n",
    "print(x.nominal,x.voltage,x.pattern,x.size,x.log_file,sep='\\n')"
   ]
  },
  {
   "cell_type": "markdown",
   "id": "5ab0a273",
   "metadata": {},
   "source": [
    "# Scripting\n",
    "Below is a simple script to fill all the devices with a pattern, hold at low voltage, wait for user to end trial, then scan for SEUs. Note that this data is only shown on the terminal and not automatically saved anywhere. A good place to start with automating experiments would be to automatically log and save these results. I suggest using pandas DataFrames or the `log()` method in the `memex` package."
   ]
  },
  {
   "cell_type": "code",
   "execution_count": 5,
   "id": "a267927a",
   "metadata": {},
   "outputs": [
    {
     "name": "stdout",
     "output_type": "stream",
     "text": [
      "STATUS: [1, 1, 1, 1, 1, 1, 1, 1, 1, 1, 1, 0]\n",
      "FILL: [85, 85, 85, 85]\n",
      "\t(press ENTER to begin trial)\\\n",
      "\tholding @ [0.5, 1.0, 1.5, 2.0] ...\n",
      "\t(press ENTER to return to nominal)\n",
      "HOLD: (0.6286029815673828, [0.5, 1.0, 1.5, 2.0])\n",
      "SCAN: [513, 555, 434, 386, 395, 410, 301, 354, 336, 232, 238, nan]\n"
     ]
    },
    {
     "data": {
      "text/plain": [
       "'data/tutorial/data.csv'"
      ]
     },
     "execution_count": 5,
     "metadata": {},
     "output_type": "execute_result"
    }
   ],
   "source": [
    "import memex as x\n",
    "\n",
    "# settings \n",
    "t = None # set holding time in seconds (or use None for manual operation)\n",
    "x.voltage = [0.5,1.0,1.5,2.0] # set holding voltage for groups A, B, C, and D\n",
    "x.pattern = [85,85,85,85] # set pattern used to fill memories (85 is default checkerboard)\n",
    "x.size = [1,1,1,1] # set number of kB to use (up to 4096)\n",
    "x.log_file = 'data/tutorial/log.csv' # set command log location\n",
    "\n",
    "# run trial\n",
    "print('STATUS:',x.status())\n",
    "print('FILL:',x.fill())\n",
    "input('\\t(press ENTER to begin trial)')\n",
    "print('HOLD:',x.hold(t=t))\n",
    "data = x.scan()\n",
    "print('SCAN:',data)\n",
    "header = ['A1','A2','A3','B1','B2','B3','C1','C2','C3','D1','D2','D3']\n",
    "x.log(data,header,file='data/tutorial/data.csv')"
   ]
  },
  {
   "cell_type": "code",
   "execution_count": null,
   "id": "094de43d",
   "metadata": {},
   "outputs": [],
   "source": []
  }
 ],
 "metadata": {
  "kernelspec": {
   "display_name": "Python 3 (ipykernel)",
   "language": "python",
   "name": "python3"
  },
  "language_info": {
   "codemirror_mode": {
    "name": "ipython",
    "version": 3
   },
   "file_extension": ".py",
   "mimetype": "text/x-python",
   "name": "python",
   "nbconvert_exporter": "python",
   "pygments_lexer": "ipython3",
   "version": "3.9.6"
  }
 },
 "nbformat": 4,
 "nbformat_minor": 5
}
